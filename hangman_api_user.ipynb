{
  "cells": [
    {
      "cell_type": "markdown",
      "metadata": {
        "id": "gyRI980oD_8j"
      },
      "source": [
        "# Trexquant Interview Project (The Hangman Game)\n",
        "\n",
        "* Copyright Trexquant Investment LP. All Rights Reserved.\n",
        "* Redistribution of this question without written consent from Trexquant is prohibited"
      ]
    },
    {
      "cell_type": "markdown",
      "metadata": {
        "id": "7MegBxEVD_8l"
      },
      "source": [
        "## Instruction:\n",
        "For this coding test, your mission is to write an algorithm that plays the game of Hangman through our API server.\n",
        "\n",
        "When a user plays Hangman, the server first selects a secret word at random from a list. The server then returns a row of underscores (space separated)—one for each letter in the secret word—and asks the user to guess a letter. If the user guesses a letter that is in the word, the word is redisplayed with all instances of that letter shown in the correct positions, along with any letters correctly guessed on previous turns. If the letter does not appear in the word, the user is charged with an incorrect guess. The user keeps guessing letters until either (1) the user has correctly guessed all the letters in the word\n",
        "or (2) the user has made six incorrect guesses.\n",
        "\n",
        "You are required to write a \"guess\" function that takes current word (with underscores) as input and returns a guess letter. You will use the API codes below to play 1,000 Hangman games. You have the opportunity to practice before you want to start recording your game results.\n",
        "\n",
        "Your algorithm is permitted to use a training set of approximately 250,000 dictionary words. Your algorithm will be tested on an entirely disjoint set of 250,000 dictionary words. Please note that this means the words that you will ultimately be tested on do NOT appear in the dictionary that you are given. You are not permitted to use any dictionary other than the training dictionary we provided. This requirement will be strictly enforced by code review.\n",
        "\n",
        "You are provided with a basic, working algorithm. This algorithm will match the provided masked string (e.g. a _ _ l e) to all possible words in the dictionary, tabulate the frequency of letters appearing in these possible words, and then guess the letter with the highest frequency of appearence that has not already been guessed. If there are no remaining words that match then it will default back to the character frequency distribution of the entire dictionary.\n",
        "\n",
        "This benchmark strategy is successful approximately 18% of the time. Your task is to design an algorithm that significantly outperforms this benchmark."
      ]
    },
    {
      "cell_type": "code",
      "execution_count": 3,
      "metadata": {
        "id": "D52gwWzlD_8m",
        "jupyter": {
          "outputs_hidden": true
        },
        "scrolled": true
      },
      "outputs": [],
      "source": [
        "import json\n",
        "import requests\n",
        "import random\n",
        "import string\n",
        "import secrets\n",
        "import time\n",
        "import re\n",
        "import collections\n",
        "\n",
        "try:\n",
        "    from urllib.parse import parse_qs, urlencode, urlparse\n",
        "except ImportError:\n",
        "    from urlparse import parse_qs, urlparse\n",
        "    from urllib import urlencode\n",
        "\n",
        "from requests.packages.urllib3.exceptions import InsecureRequestWarning\n",
        "\n",
        "requests.packages.urllib3.disable_warnings(InsecureRequestWarning)"
      ]
    },
    {
      "cell_type": "code",
      "execution_count": 29,
      "metadata": {
        "id": "kzNey1s3D_8n",
        "jupyter": {
          "outputs_hidden": true
        }
      },
      "outputs": [],
      "source": [
        "class HangmanAPI(object):\n",
        "    def __init__(self, access_token=None, session=None, timeout=None):\n",
        "        self.hangman_url = self.determine_hangman_url()\n",
        "        self.access_token = access_token\n",
        "        self.session = session or requests.Session()\n",
        "        self.timeout = timeout\n",
        "        self.guessed_letters = []\n",
        "\n",
        "        full_dictionary_location = \"words_250000_train.txt\"\n",
        "        self.full_dictionary = self.build_dictionary(full_dictionary_location)\n",
        "        self.full_dictionary_common_letter_sorted = collections.Counter(\"\".join(self.full_dictionary)).most_common()\n",
        "\n",
        "        self.current_dictionary = []\n",
        "\n",
        "        self.n_dictionary=self.build_n_dictionary(self.full_dictionary)\n",
        "\n",
        "    @staticmethod\n",
        "    def determine_hangman_url():\n",
        "        links = ['https://trexsim.com', 'https://sg.trexsim.com']\n",
        "\n",
        "        data = {link: 0 for link in links}\n",
        "\n",
        "        for link in links:\n",
        "\n",
        "            requests.get(link)\n",
        "\n",
        "            for i in range(10):\n",
        "                s = time.time()\n",
        "                requests.get(link)\n",
        "                data[link] = time.time() - s\n",
        "\n",
        "        link = sorted(data.items(), key=lambda x: x[1])[0][0]\n",
        "        link += '/trexsim/hangman'\n",
        "        return link\n",
        "\n",
        "    # Build a dictionary, the key represents the number of consecutive characters in a word,\n",
        "    # and the value is a list that contains all such truncations from words in the train dictionary.\n",
        "    # min and max represent the minimum and maximum truncation length.\n",
        "    # e.g. if the word is \"cat\", if min is 2, and max is 10, then \"ca\",\"at\" will be appended to the key 2,\n",
        "    # and \"cat\" will be appended to key 3, no more truncations for this word is possible.\n",
        "    def build_n_dictionary(self, full_dict, min_l=3, max_l=20):\n",
        "      # Get max length of a word\n",
        "      max_word = max(full_dict, key = len)\n",
        "      max_l = len(max_word)\n",
        "\n",
        "      n_dictionary={k:[] for k in range(min_l, max_l+1)}\n",
        "      for i in range(min_l, max_l+1):\n",
        "        for word in full_dict:\n",
        "          for j in range(len(word)-i+1):\n",
        "            n_dictionary[i].append(word[j:j+i])\n",
        "      return n_dictionary\n",
        "\n",
        "    # Return the counter by adding togeter the word counters in new_dictionary, repetetive count for the same letter\n",
        "    # in a single word is deactivated.\n",
        "    def counter(self, new_dictionary):\n",
        "      c = collections.Counter()\n",
        "      for word in new_dictionary:\n",
        "        c_tmp = collections.Counter(\"\".join(set(word)))\n",
        "        c += c_tmp\n",
        "      return c\n",
        "\n",
        "    # Return all possible matches to the truncated version of word.\n",
        "    def n_match(self, trunc_word):\n",
        "      new_dictionary=[]\n",
        "      for t in self.n_dictionary[len(trunc_word)]:\n",
        "        if re.match(trunc_word,t):\n",
        "          new_dictionary.append(t)\n",
        "      return new_dictionary\n",
        "\n",
        "    # Guess the letter for word with a truncation length l.\n",
        "    # if l equals the length of word, look up n_dictionary once,\n",
        "    # if l is less than word length, iterate all l-size truncations of word,\n",
        "    # add all possible matches together to determine the guess letter.\n",
        "    def guess_word(self,word,l):\n",
        "      counter = collections.Counter()\n",
        "      if l == len(word):\n",
        "        new_dictionary = self.n_match(word)\n",
        "        counter += self.counter(new_dictionary)\n",
        "\n",
        "      else:\n",
        "        for i in range(len(word)-l+1):\n",
        "          trunc_word = word[i:i+l]\n",
        "          new_dictionary = self.n_match(trunc_word)\n",
        "          tmp = self.counter(new_dictionary)\n",
        "          counter += tmp\n",
        "\n",
        "      sorted_letter_count=counter.most_common()\n",
        "      for letter,instance_count in sorted_letter_count:\n",
        "        if letter not in self.guessed_letters:\n",
        "          return letter\n",
        "      return \"!\"\n",
        "\n",
        "    def guess(self, word): # word input example: \"_ p p _ e \"\n",
        "        # clean the word so that we strip away the space characters\n",
        "        # replace \"_\" with \".\" as \".\" indicates any character in regular expressions\n",
        "        clean_word = word[::2].replace(\"_\",\".\")\n",
        "\n",
        "        guess_letter = '!'\n",
        "\n",
        "        # Iterate through truncations of word from itself to the minimum truncation length 3,\n",
        "        # with a pre-defined step size of 2.\n",
        "        for l in range(len(clean_word),2,-2):\n",
        "          guess_letter = self.guess_word(clean_word,l)\n",
        "          if guess_letter != \"!\":\n",
        "            break\n",
        "\n",
        "        # if no word matches in training dictionary, default back to ordering of full dictionary.\n",
        "        # The default strategy is reasonable.\n",
        "        if guess_letter == '!':\n",
        "            sorted_letter_count = self.full_dictionary_common_letter_sorted\n",
        "            for letter,instance_count in sorted_letter_count:\n",
        "                if letter not in self.guessed_letters:\n",
        "                    guess_letter = letter\n",
        "                    break\n",
        "\n",
        "        return guess_letter\n",
        "\n",
        "    ##########################################################\n",
        "    # You'll likely not need to modify any of the code below #\n",
        "    ##########################################################\n",
        "\n",
        "    def build_dictionary(self, dictionary_file_location):\n",
        "        text_file = open(dictionary_file_location,\"r\")\n",
        "        full_dictionary = text_file.read().splitlines()\n",
        "        text_file.close()\n",
        "        return full_dictionary\n",
        "\n",
        "    def start_game(self, practice=True, verbose=True):\n",
        "        # reset guessed letters to empty set and current plausible dictionary to the full dictionary\n",
        "        self.guessed_letters = []\n",
        "        self.current_dictionary = self.full_dictionary\n",
        "\n",
        "        response = self.request(\"/new_game\", {\"practice\":practice})\n",
        "        if response.get('status')==\"approved\":\n",
        "            game_id = response.get('game_id')\n",
        "            word = response.get('word')\n",
        "            tries_remains = response.get('tries_remains')\n",
        "            if verbose:\n",
        "                print(\"Successfully start a new game! Game ID: {0}. # of tries remaining: {1}. Word: {2}.\".format(game_id, tries_remains, word))\n",
        "            while tries_remains>0:\n",
        "                # get guessed letter from user code\n",
        "                guess_letter = self.guess(word)\n",
        "\n",
        "                # append guessed letter to guessed letters field in hangman object\n",
        "                self.guessed_letters.append(guess_letter)\n",
        "                if verbose:\n",
        "                    print(\"Guessing letter: {0}\".format(guess_letter))\n",
        "\n",
        "                try:\n",
        "                    res = self.request(\"/guess_letter\", {\"request\":\"guess_letter\", \"game_id\":game_id, \"letter\":guess_letter})\n",
        "                except HangmanAPIError:\n",
        "                    print('HangmanAPIError exception caught on request.')\n",
        "                    continue\n",
        "                except Exception as e:\n",
        "                    print('Other exception caught on request.')\n",
        "                    raise e\n",
        "\n",
        "                if verbose:\n",
        "                    print(\"Sever response: {0}\".format(res))\n",
        "                status = res.get('status')\n",
        "                tries_remains = res.get('tries_remains')\n",
        "                if status==\"success\":\n",
        "                    if verbose:\n",
        "                        print(\"Successfully finished game: {0}\".format(game_id))\n",
        "                    return True\n",
        "                elif status==\"failed\":\n",
        "                    reason = res.get('reason', '# of tries exceeded!')\n",
        "                    if verbose:\n",
        "                        print(\"Failed game: {0}. Because of: {1}\".format(game_id, reason))\n",
        "                    return False\n",
        "                elif status==\"ongoing\":\n",
        "                    word = res.get('word')\n",
        "        else:\n",
        "            if verbose:\n",
        "                print(\"Failed to start a new game\")\n",
        "        return status==\"success\"\n",
        "\n",
        "    def my_status(self):\n",
        "        return self.request(\"/my_status\", {})\n",
        "\n",
        "    def request(\n",
        "            self, path, args=None, post_args=None, method=None):\n",
        "        if args is None:\n",
        "            args = dict()\n",
        "        if post_args is not None:\n",
        "            method = \"POST\"\n",
        "\n",
        "        # Add `access_token` to post_args or args if it has not already been\n",
        "        # included.\n",
        "        if self.access_token:\n",
        "            # If post_args exists, we assume that args either does not exists\n",
        "            # or it does not need `access_token`.\n",
        "            if post_args and \"access_token\" not in post_args:\n",
        "                post_args[\"access_token\"] = self.access_token\n",
        "            elif \"access_token\" not in args:\n",
        "                args[\"access_token\"] = self.access_token\n",
        "\n",
        "        time.sleep(0.2)\n",
        "\n",
        "        num_retry, time_sleep = 50, 2\n",
        "        for it in range(num_retry):\n",
        "            try:\n",
        "                response = self.session.request(\n",
        "                    method or \"GET\",\n",
        "                    self.hangman_url + path,\n",
        "                    timeout=self.timeout,\n",
        "                    params=args,\n",
        "                    data=post_args,\n",
        "                    verify=False\n",
        "                )\n",
        "                break\n",
        "            except requests.HTTPError as e:\n",
        "                response = json.loads(e.read())\n",
        "                raise HangmanAPIError(response)\n",
        "            except requests.exceptions.SSLError as e:\n",
        "                if it + 1 == num_retry:\n",
        "                    raise\n",
        "                time.sleep(time_sleep)\n",
        "\n",
        "        headers = response.headers\n",
        "        if 'json' in headers['content-type']:\n",
        "            result = response.json()\n",
        "        elif \"access_token\" in parse_qs(response.text):\n",
        "            query_str = parse_qs(response.text)\n",
        "            if \"access_token\" in query_str:\n",
        "                result = {\"access_token\": query_str[\"access_token\"][0]}\n",
        "                if \"expires\" in query_str:\n",
        "                    result[\"expires\"] = query_str[\"expires\"][0]\n",
        "            else:\n",
        "                raise HangmanAPIError(response.json())\n",
        "        else:\n",
        "            raise HangmanAPIError('Maintype was not text, or querystring')\n",
        "\n",
        "        if result and isinstance(result, dict) and result.get(\"error\"):\n",
        "            raise HangmanAPIError(result)\n",
        "        return result\n",
        "\n",
        "class HangmanAPIError(Exception):\n",
        "    def __init__(self, result):\n",
        "        self.result = result\n",
        "        self.code = None\n",
        "        try:\n",
        "            self.type = result[\"error_code\"]\n",
        "        except (KeyError, TypeError):\n",
        "            self.type = \"\"\n",
        "\n",
        "        try:\n",
        "            self.message = result[\"error_description\"]\n",
        "        except (KeyError, TypeError):\n",
        "            try:\n",
        "                self.message = result[\"error\"][\"message\"]\n",
        "                self.code = result[\"error\"].get(\"code\")\n",
        "                if not self.type:\n",
        "                    self.type = result[\"error\"].get(\"type\", \"\")\n",
        "            except (KeyError, TypeError):\n",
        "                try:\n",
        "                    self.message = result[\"error_msg\"]\n",
        "                except (KeyError, TypeError):\n",
        "                    self.message = result\n",
        "\n",
        "        Exception.__init__(self, self.message)"
      ]
    },
    {
      "cell_type": "markdown",
      "metadata": {
        "id": "2BbP7VohD_8o"
      },
      "source": [
        "# API Usage Examples"
      ]
    },
    {
      "cell_type": "markdown",
      "metadata": {
        "id": "hBGV9VloD_8o"
      },
      "source": [
        "## To start a new game:\n",
        "1. Make sure you have implemented your own \"guess\" method.\n",
        "2. Use the access_token that we sent you to create your HangmanAPI object.\n",
        "3. Start a game by calling \"start_game\" method.\n",
        "4. If you wish to test your function without being recorded, set \"practice\" parameter to 1.\n",
        "5. Note: You have a rate limit of 20 new games per minute. DO NOT start more than 20 new games within one minute."
      ]
    },
    {
      "cell_type": "code",
      "execution_count": 30,
      "metadata": {
        "id": "ZOAcWA4hD_8p",
        "jupyter": {
          "outputs_hidden": true
        }
      },
      "outputs": [],
      "source": [
        "api = HangmanAPI(access_token=\"7d11a9847c5f2f32b39f9ea77fab57\", timeout=2000)\n"
      ]
    },
    {
      "cell_type": "markdown",
      "metadata": {
        "id": "MZp7kBawD_8p"
      },
      "source": [
        "## Playing practice games:\n",
        "You can use the command below to play up to 100,000 practice games."
      ]
    },
    {
      "cell_type": "code",
      "execution_count": null,
      "metadata": {
        "colab": {
          "base_uri": "https://localhost:8080/"
        },
        "id": "6mmRbbJOD_8p",
        "jupyter": {
          "outputs_hidden": true
        },
        "outputId": "4f7c489a-2201-4a98-b21a-016570432d56",
        "scrolled": true
      },
      "outputs": [],
      "source": [
        "api.start_game(practice=1,verbose=True)\n",
        "[total_practice_runs,total_recorded_runs,total_recorded_successes,total_practice_successes] = api.my_status() # Get my game stats: (# of tries, # of wins)\n",
        "practice_success_rate = total_practice_successes / total_practice_runs\n",
        "print('run %d practice games out of an allotted 100,000. practice success rate so far = %.3f' % (total_practice_runs, practice_success_rate))\n"
      ]
    },
    {
      "cell_type": "markdown",
      "metadata": {
        "id": "22mw3W7jD_8p"
      },
      "source": [
        "## Playing recorded games:\n",
        "Please finalize your code prior to running the cell below. Once this code executes once successfully your submission will be finalized. Our system will not allow you to rerun any additional games.\n",
        "\n",
        "Please note that it is expected that after you successfully run this block of code that subsequent runs will result in the error message \"Your account has been deactivated\".\n",
        "\n",
        "Once you've run this section of the code your submission is complete. Please send us your source code via email."
      ]
    },
    {
      "cell_type": "code",
      "execution_count": null,
      "metadata": {
        "colab": {
          "base_uri": "https://localhost:8080/",
          "height": 1000
        },
        "id": "jhDPScPRD_8p",
        "jupyter": {
          "outputs_hidden": true
        },
        "outputId": "bd207946-f2d4-4b8c-87f1-6d8d3e8ae542"
      },
      "outputs": [],
      "source": [
        "for i in range(1000):\n",
        "    print('Playing ', i, ' th game')\n",
        "    # Uncomment the following line to execute your final runs. Do not do this until you are satisfied with your submission\n",
        "    api.start_game(practice=0,verbose=False)\n",
        "\n",
        "    # DO NOT REMOVE as otherwise the server may lock you out for too high frequency of requests\n",
        "    #time.sleep(0.5)"
      ]
    },
    {
      "cell_type": "markdown",
      "metadata": {
        "id": "TzTlz0zeD_8p"
      },
      "source": [
        "## To check your game statistics\n",
        "1. Simply use \"my_status\" method.\n",
        "2. Returns your total number of games, and number of wins."
      ]
    },
    {
      "cell_type": "code",
      "execution_count": 35,
      "metadata": {
        "colab": {
          "base_uri": "https://localhost:8080/"
        },
        "id": "iR1cxvj_D_8q",
        "jupyter": {
          "outputs_hidden": true
        },
        "outputId": "a7f43eee-8f54-4d97-c504-cf5283affc4d"
      },
      "outputs": [
        {
          "name": "stdout",
          "output_type": "stream",
          "text": [
            "1000\n",
            "overall success rate = 0.577\n"
          ]
        }
      ],
      "source": [
        "[total_practice_runs,total_recorded_runs,total_recorded_successes,total_practice_successes] = api.my_status() # Get my game stats: (# of tries, # of wins)\n",
        "success_rate = total_recorded_successes/total_recorded_runs\n",
        "print(total_recorded_runs)\n",
        "print('overall success rate = %.3f' % success_rate)"
      ]
    }
  ],
  "metadata": {
    "colab": {
      "provenance": [],
      "toc_visible": true
    },
    "kernelspec": {
      "display_name": "Python 3",
      "language": "python",
      "name": "python3"
    },
    "language_info": {
      "codemirror_mode": {
        "name": "ipython",
        "version": 3
      },
      "file_extension": ".py",
      "mimetype": "text/x-python",
      "name": "python",
      "nbconvert_exporter": "python",
      "pygments_lexer": "ipython3",
      "version": "3.9.6"
    },
    "vscode": {
      "interpreter": {
        "hash": "aee8b7b246df8f9039afb4144a1f6fd8d2ca17a180786b69acc140d282b71a49"
      }
    }
  },
  "nbformat": 4,
  "nbformat_minor": 0
}
